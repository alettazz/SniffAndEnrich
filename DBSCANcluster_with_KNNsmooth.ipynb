{
  "nbformat": 4,
  "nbformat_minor": 0,
  "metadata": {
    "colab": {
      "name": "DBSCAN.ipynb",
      "version": "0.3.2",
      "provenance": [],
      "collapsed_sections": [],
      "include_colab_link": true
    },
    "kernelspec": {
      "name": "python3",
      "display_name": "Python 3"
    },
    "accelerator": "GPU"
  },
  "cells": [
    {
      "cell_type": "markdown",
      "metadata": {
        "id": "view-in-github",
        "colab_type": "text"
      },
      "source": [
        "<a href=\"https://colab.research.google.com/github/alettazz/SniffAndEnrich/blob/master/DBSCANcluster_with_KNNsmooth.ipynb\" target=\"_parent\"><img src=\"https://colab.research.google.com/assets/colab-badge.svg\" alt=\"Open In Colab\"/></a>"
      ]
    },
    {
      "cell_type": "markdown",
      "metadata": {
        "id": "A-9eAu4UAJJk",
        "colab_type": "text"
      },
      "source": [
        "# KNN algorithm\n",
        "**to test the dataset from 1 particular day**\n"
      ]
    },
    {
      "cell_type": "code",
      "metadata": {
        "id": "w6TM4dun__-8",
        "colab_type": "code",
        "outputId": "87ad869e-321d-44d4-81e1-960ae8fee876",
        "colab": {
          "base_uri": "https://localhost:8080/",
          "height": 211
        }
      },
      "source": [
        "\n",
        "\n",
        "# Code source: Gael Varoqueux\n",
        "# Modified for Documentation merge by Jaques Grobler\n",
        "# License: BSD\n",
        "\n",
        "import numpy as np\n",
        "import pylab as pl\n",
        "from sklearn import neighbors, datasets\n",
        "\n",
        "# import some data to play with\n",
        "iris = datasets.load_iris()\n",
        "#iris = df3\n",
        "X = iris.data[:, :2] # we only take the first two features. \n",
        "Y = iris.target\n",
        "\n",
        "\n",
        "\n",
        "h = .02 # step size in the mesh\n",
        "\n",
        "knn=neighbors.KNeighborsClassifier()\n",
        "\n",
        "# we create an instance of Neighbours Classifier and fit the data.\n",
        "knn.fit(X, Y)\n",
        "\n",
        "# Plot the decision boundary. For that, we will asign a color to each\n",
        "# point in the mesh [x_min, m_max]x[y_min, y_max].\n",
        "x_min, x_max = X[:,0].min() - .5, X[:,0].max() + .5\n",
        "y_min, y_max = X[:,1].min() - .5, X[:,1].max() + .5\n",
        "xx, yy = np.meshgrid(np.arange(x_min, x_max, h), np.arange(y_min, y_max, h))\n",
        "Z = knn.predict(np.c_[xx.ravel(), yy.ravel()])\n",
        "\n",
        "# Put the result into a color plot\n",
        "Z = Z.reshape(xx.shape)\n",
        "pl.figure(1, figsize=(4, 3))\n",
        "pl.set_cmap(pl.cm.Paired)\n",
        "pl.pcolormesh(xx, yy, Z)\n",
        "\n",
        "# Plot also the training points\n",
        "pl.scatter(X[:,0], X[:,1],c=Y )\n",
        "pl.xlabel('Sepal length')\n",
        "pl.ylabel('Sepal width')\n",
        "\n",
        "pl.xlim(xx.min(), xx.max())\n",
        "pl.ylim(yy.min(), yy.max())\n",
        "pl.xticks(())\n",
        "pl.yticks(())\n",
        "\n",
        "pl.show()"
      ],
      "execution_count": 0,
      "outputs": [
        {
          "output_type": "display_data",
          "data": {
            "image/png": "[encoded data removed]",
            "text/plain": [
              "<Figure size 288x216 with 1 Axes>"
            ]
          },
          "metadata": {
            "tags": []
          }
        }
      ]
    },
    {
      "cell_type": "markdown",
      "metadata": {
        "id": "1a0zlxXmqjdq",
        "colab_type": "text"
      },
      "source": [
        "# **DBSCAN**"
      ]
    },
    {
      "cell_type": "markdown",
      "metadata": {
        "id": "oOdDJdLHqw_C",
        "colab_type": "text"
      },
      "source": [
        "\n",
        "```\n",
        "#initialising drive and reading the file\n",
        "```"
      ]
    },
    {
      "cell_type": "code",
      "metadata": {
        "id": "uKYN-Us3miqy",
        "colab_type": "code",
        "outputId": "b36ad2de-6bb0-460e-c91d-d8ef05a93c1c",
        "colab": {
          "base_uri": "https://localhost:8080/",
          "height": 306
        }
      },
      "source": [
        "!pip install -U -q PyDrive\n",
        "import os\n",
        "from pydrive.auth import GoogleAuth\n",
        "from pydrive.drive import GoogleDrive\n",
        "from google.colab import auth\n",
        "from oauth2client.client import GoogleCredentials\n",
        "import pandas as pd\n",
        "\n",
        "\n",
        "# 1. Authenticate and create the PyDrive client.\n",
        "auth.authenticate_user()\n",
        "gauth = GoogleAuth()\n",
        "gauth.credentials = GoogleCredentials.get_application_default()\n",
        "drive = GoogleDrive(gauth)\n",
        "\n",
        "link = 'https://drive.google.com/open?id=1ayd2rM3RX6hzIvQSSOl7bbfbe2g-fkeb' \n",
        "link = 'https://drive.google.com/open?id=10fMkS-CAUGcm-bBcAyrzjTtnoMb8Bj5G' \n",
        "\n",
        "fluff, id = link.split('=')\n",
        "\n",
        "#print (id) \n",
        "\n",
        "\n",
        "downloaded = drive.CreateFile({'id':id}) \n",
        "downloaded.GetContentFile('kedd_idosik_teljes_toKNN.csv')  \n",
        "df3 = pd.read_csv('kedd_idosik_teljes_toKNN.csv')\n",
        "\n",
        "#df3 = df3.tail(73).head(8)\n",
        "print(df3)"
      ],
      "execution_count": 0,
      "outputs": [
        {
          "output_type": "stream",
          "text": [
            "          mac_address  ...             timespan\n",
            "0   a8:7c:01:72:4f:9c  ...  28/02/2019 11:45:10\n",
            "1   da:a1:19:24:f0:33  ...  28/02/2019 11:45:11\n",
            "2   a8:7c:01:18:41:d9  ...  28/02/2019 11:45:12\n",
            "3   48:88:1e:35:1e:57  ...  28/02/2019 11:45:13\n",
            "4   48:88:af:87:c5:d2  ...  28/02/2019 11:45:14\n",
            "5   00:0a:00:55:21:f6  ...  28/02/2019 11:45:15\n",
            "6   10:8e:e0:2c:8f:c6  ...  28/02/2019 11:45:16\n",
            "7   08:d4:13:02:93:44  ...  28/02/2019 11:45:17\n",
            "8   c8:94:17:ea:13:d8  ...  28/02/2019 11:45:18\n",
            "9   ec:10:14:12:40:84  ...  28/02/2019 11:45:19\n",
            "10  38:d5:dd:45:6d:d1  ...  28/02/2019 11:45:20\n",
            "11  10:8e:ba:8e:ed:e1  ...  28/02/2019 11:45:21\n",
            "12  14:2d:27:db:fb:86  ...  28/02/2019 11:45:22\n",
            "13  7c:2e:dd:e9:42:86  ...  28/02/2019 11:45:23\n",
            "\n",
            "[14 rows x 7 columns]\n"
          ],
          "name": "stdout"
        }
      ]
    },
    {
      "cell_type": "markdown",
      "metadata": {
        "id": "bja_pigurJGj",
        "colab_type": "text"
      },
      "source": [
        "\n",
        "\n",
        "```\n",
        "# preparing the data for dbscan\n",
        "```\n",
        "\n"
      ]
    },
    {
      "cell_type": "code",
      "metadata": {
        "id": "NZZ5b0cDrH_B",
        "colab_type": "code",
        "colab": {}
      },
      "source": [
        "from sklearn.cluster import DBSCAN\n",
        "from sklearn.preprocessing import StandardScaler\n",
        "import numpy as np\n",
        "import pandas as pd\n",
        "import matplotlib.pyplot as plt\n",
        "\n",
        "print(df3.head())\n",
        "\n",
        "#df3.drop([\"mac address\", \"vendor\"], axis = 1, inplace = True)"
      ],
      "execution_count": 0,
      "outputs": []
    },
    {
      "cell_type": "code",
      "metadata": {
        "id": "NbUUXDTcsKVD",
        "colab_type": "code",
        "colab": {}
      },
      "source": [
        "print(df3.head())"
      ],
      "execution_count": 0,
      "outputs": []
    },
    {
      "cell_type": "code",
      "metadata": {
        "id": "9kTGYEmFks3z",
        "colab_type": "code",
        "colab": {}
      },
      "source": [
        "!pip install pyproj==1.9.6\n",
        "\n",
        "!apt-get install libgeos-3.5.0\n",
        "!apt-get install libgeos-dev\n",
        "!pip install https://github.com/matplotlib/basemap/archive/master.zip\n",
        "\n"
      ],
      "execution_count": 0,
      "outputs": []
    },
    {
      "cell_type": "code",
      "metadata": {
        "id": "NJzI5OVWoO8g",
        "colab_type": "code",
        "colab": {}
      },
      "source": [
        "from mpl_toolkits.basemap import Basemap\n",
        "import matplotlib.pyplot as plt\n",
        "%matplotlib inline\n",
        "\n",
        "coords = df3.as_matrix(columns=['lat', 'lon'])\n",
        "\n",
        "plt.figure(figsize = (12, 12))\n",
        "\n",
        "m = Basemap(projection='merc', resolution='h', epsg=4900, \n",
        "            llcrnrlon=24.4,llcrnrlat=46.51, urcrnrlon=24.6,urcrnrlat=46.53)\n",
        "\n",
        "# plot the aftershock\n",
        "x, y = m(coords[:, 1], coords[:, 0])\n",
        "m.scatter(x,y,5,marker='o',color='b')\n",
        "m.arcgisimage(service='World_Shaded_Relief', xpixels = 5000, verbose= False)\n",
        "    \n",
        "plt.show()"
      ],
      "execution_count": 0,
      "outputs": []
    },
    {
      "cell_type": "markdown",
      "metadata": {
        "id": "JOMYjDEBEPIx",
        "colab_type": "text"
      },
      "source": [
        "scatter all the point simply that are on the specified interval"
      ]
    },
    {
      "cell_type": "code",
      "metadata": {
        "id": "ECExe-70svRW",
        "colab_type": "code",
        "outputId": "1358bb8c-457c-452e-9568-972700c98733",
        "colab": {
          "base_uri": "https://localhost:8080/",
          "height": 290
        }
      },
      "source": [
        "x = df3['LAT']*100000\n",
        "y = df3['LON']*100000\n",
        "\n",
        "\n",
        "plt.scatter(x,y)\n",
        "plt.xlabel(\"latitude\")\n",
        "plt.ylabel(\"longitude\")\n",
        "\n",
        "plt.show()"
      ],
      "execution_count": 0,
      "outputs": [
        {
          "output_type": "display_data",
          "data": {
            "image/png": "[encoded data removed]",
            "text/plain": [
              "<Figure size 432x288 with 1 Axes>"
            ]
          },
          "metadata": {
            "tags": []
          }
        }
      ]
    },
    {
      "cell_type": "code",
      "metadata": {
        "id": "P4f_Y4LPtDHX",
        "colab_type": "code",
        "outputId": "ae126424-892d-47e8-8843-65c982ea9aa4",
        "colab": {
          "base_uri": "https://localhost:8080/",
          "height": 981
        }
      },
      "source": [
        "import seaborn as sns\n",
        "from sklearn.preprocessing import StandardScaler\n",
        "import pandas as pd\n",
        "\n",
        "\n",
        "df = df3[[\"LAT\", \"LON\"]]\n",
        "df = df.as_matrix().astype(\"float32\", copy = False)\n",
        "\n",
        "print(\" Original \")\n",
        "print(df)\n",
        "stscaler = StandardScaler().fit(df)\n",
        "df = stscaler.transform(df)\n",
        "\n",
        "print(\" Scaled \")\n",
        "\n",
        "print(df)\n",
        "\n",
        "\n",
        "dbsc = DBSCAN(eps = .4, min_samples = 2, algorithm='auto').fit(df)\n",
        "\n",
        "labels = dbsc.labels_\n",
        "\n",
        "#print(labels)\n",
        "core_samples = np.zeros_like(labels, dtype = bool)\n",
        "core_samples[dbsc.core_sample_indices_] = True\n",
        "\n",
        "cluster_labels = dbsc.labels_\n",
        "n_clusters = len(set(cluster_labels))\n",
        "\n",
        "# get the cluster\n",
        "# cluster_labels = -1 means outliers\n",
        "clusters = \\\n",
        "    pd.Series([df[cluster_labels == n] for n in range(-1, n_clusters)])\n",
        "print([df[cluster_labels == -1]])\n",
        "\n",
        "\n",
        "filtro=list(labels)\n",
        "\n",
        "df3[\"time\"]=filtro\n",
        "\n",
        "\n",
        "x = df3['LAT']\n",
        "y = df3['LON']\n",
        "\n",
        "\n",
        "sns.lmplot(\"LAT\",\"LON\",data=df3*100,fit_reg=False,hue=\"time\")\n",
        "\n",
        "#plt.show()\n",
        "\n",
        "\n",
        "\n"
      ],
      "execution_count": 0,
      "outputs": [
        {
          "output_type": "stream",
          "text": [
            "/usr/local/lib/python3.6/dist-packages/ipykernel_launcher.py:7: FutureWarning: Method .as_matrix will be removed in a future version. Use .values instead.\n",
            "  import sys\n"
          ],
          "name": "stderr"
        },
        {
          "output_type": "stream",
          "text": [
            " Original \n",
            "[[46.52284  24.598696]\n",
            " [46.52284  24.5987  ]\n",
            " [46.522808 24.598484]\n",
            " [46.522755 24.598652]\n",
            " [46.52277  24.59863 ]\n",
            " [46.522835 24.598705]\n",
            " [46.52284  24.5987  ]\n",
            " [46.522808 24.598671]\n",
            " [46.522686 24.59861 ]\n",
            " [46.522823 24.59861 ]\n",
            " [46.522835 24.598518]\n",
            " [46.522766 24.598637]\n",
            " [46.5228   24.598682]\n",
            " [46.52283  24.598518]]\n",
            " Scaled \n",
            "[[ 0.8483737   0.9255414 ]\n",
            " [ 0.8483737   0.9788648 ]\n",
            " [ 0.13395375 -2.0339057 ]\n",
            " [-1.1162812   0.31232262]\n",
            " [-0.75907123  0.01904406]\n",
            " [ 0.75907123  1.0588498 ]\n",
            " [ 0.8483737   0.9788648 ]\n",
            " [ 0.13395375  0.57893944]\n",
            " [-2.723726   -0.27423447]\n",
            " [ 0.49116373 -0.27423447]\n",
            " [ 0.75907123 -1.5539954 ]\n",
            " [-0.8483737   0.09902912]\n",
            " [-0.04465125  0.73890954]\n",
            " [ 0.66976875 -1.5539954 ]]\n",
            "[array([[ 0.13395375, -2.0339057 ],\n",
            "       [-2.723726  , -0.27423447],\n",
            "       [ 0.49116373, -0.27423447]], dtype=float32)]\n"
          ],
          "name": "stdout"
        },
        {
          "output_type": "execute_result",
          "data": {
            "text/plain": [
              "<seaborn.axisgrid.FacetGrid at 0x7fe49a7424a8>"
            ]
          },
          "metadata": {
            "tags": []
          },
          "execution_count": 153
        },
        {
          "output_type": "display_data",
          "data": {
            "image/png": "[encoded data removed]",
            "text/plain": [
              "<Figure size 418.5x360 with 1 Axes>"
            ]
          },
          "metadata": {
            "tags": []
          }
        }
      ]
    },
    {
      "cell_type": "markdown",
      "metadata": {
        "id": "4Le_UQvIcZnW",
        "colab_type": "text"
      },
      "source": [
        "# KNN for the outliers from DBSCAN\n"
      ]
    },
    {
      "cell_type": "code",
      "metadata": {
        "id": "viIuWrbgcf1q",
        "colab_type": "code",
        "colab": {}
      },
      "source": [
        "import numpy as np  \n",
        "import matplotlib.pyplot as plt  \n",
        "import pandas as pd "
      ],
      "execution_count": 0,
      "outputs": []
    },
    {
      "cell_type": "markdown",
      "metadata": {
        "id": "7_8UQDftoU2T",
        "colab_type": "text"
      },
      "source": [
        "\n",
        "\n",
        "```\n",
        "# get the data from a timeframe, both the train data (where there are correct labels) and the test thata that contains the outliers\n",
        "```\n",
        "\n"
      ]
    },
    {
      "cell_type": "code",
      "metadata": {
        "id": "u4WqbK4pei1A",
        "colab_type": "code",
        "outputId": "65f93282-004d-4980-87b5-215f335467eb",
        "colab": {
          "base_uri": "https://localhost:8080/",
          "height": 391
        }
      },
      "source": [
        "!pip install -U -q PyDrive\n",
        "import os\n",
        "from pydrive.auth import GoogleAuth\n",
        "from pydrive.drive import GoogleDrive\n",
        "from google.colab import auth\n",
        "from oauth2client.client import GoogleCredentials\n",
        "import pandas as pd\n",
        "\n",
        "\n",
        "# 1. Authenticate and create the PyDrive client.\n",
        "auth.authenticate_user()\n",
        "gauth = GoogleAuth()\n",
        "gauth.credentials = GoogleCredentials.get_application_default()\n",
        "drive = GoogleDrive(gauth)\n",
        "\n",
        "link = 'https://drive.google.com/open?id=1W3wmXCbxRxKzytVZx4dimYmovPwS0riv' \n",
        "\n",
        "fluff, id = link.split('=')\n",
        "\n",
        "\n",
        "#print (id) \n",
        "\n",
        "\n",
        "downloaded = drive.CreateFile({'id':id}) \n",
        "downloaded.GetContentFile('kedd_idosik_teljes_toKNN_TEST.csv')  \n",
        "df_test = pd.read_csv('kedd_idosik_teljes_toKNN_TEST.csv')\n",
        "\n",
        "\n",
        "print(df_test)\n",
        "\n",
        "link = 'https://drive.google.com/open?id=16_82A9ne2LPlvpHFenuSXmhsxfhRWu-7'\n",
        "fluff, id = link.split('=')\n",
        "\n",
        "\n",
        "#print (id) \n",
        "\n",
        "\n",
        "downloaded = drive.CreateFile({'id':id}) \n",
        "downloaded.GetContentFile('kedd_idosik_teljes_toKNN_TRAIN.csv')  \n",
        "df_train = pd.read_csv('kedd_idosik_teljes_toKNN_TRAIN.csv')\n",
        "\n",
        "print(df_train)"
      ],
      "execution_count": 0,
      "outputs": [
        {
          "output_type": "stream",
          "text": [
            "\u001b[?25l\r\u001b[K     |▎                               | 10kB 26.8MB/s eta 0:00:01\r\u001b[K     |▋                               | 20kB 1.7MB/s eta 0:00:01\r\u001b[K     |█                               | 30kB 2.6MB/s eta 0:00:01\r\u001b[K     |█▎                              | 40kB 1.7MB/s eta 0:00:01\r\u001b[K     |█▋                              | 51kB 2.1MB/s eta 0:00:01\r\u001b[K     |██                              | 61kB 2.5MB/s eta 0:00:01\r\u001b[K     |██▎                             | 71kB 2.9MB/s eta 0:00:01\r\u001b[K     |██▋                             | 81kB 3.3MB/s eta 0:00:01\r\u001b[K     |███                             | 92kB 3.7MB/s eta 0:00:01\r\u001b[K     |███▎                            | 102kB 2.8MB/s eta 0:00:01\r\u001b[K     |███▋                            | 112kB 2.8MB/s eta 0:00:01\r\u001b[K     |████                            | 122kB 2.8MB/s eta 0:00:01\r\u001b[K     |████▎                           | 133kB 2.8MB/s eta 0:00:01\r\u001b[K     |████▋                           | 143kB 2.8MB/s eta 0:00:01\r\u001b[K     |█████                           | 153kB 2.8MB/s eta 0:00:01\r\u001b[K     |█████▎                          | 163kB 2.8MB/s eta 0:00:01\r\u001b[K     |█████▋                          | 174kB 2.8MB/s eta 0:00:01\r\u001b[K     |██████                          | 184kB 2.8MB/s eta 0:00:01\r\u001b[K     |██████▎                         | 194kB 2.8MB/s eta 0:00:01\r\u001b[K     |██████▋                         | 204kB 2.8MB/s eta 0:00:01\r\u001b[K     |███████                         | 215kB 2.8MB/s eta 0:00:01\r\u001b[K     |███████▎                        | 225kB 2.8MB/s eta 0:00:01\r\u001b[K     |███████▋                        | 235kB 2.8MB/s eta 0:00:01\r\u001b[K     |████████                        | 245kB 2.8MB/s eta 0:00:01\r\u001b[K     |████████▎                       | 256kB 2.8MB/s eta 0:00:01\r\u001b[K     |████████▋                       | 266kB 2.8MB/s eta 0:00:01\r\u001b[K     |█████████                       | 276kB 2.8MB/s eta 0:00:01\r\u001b[K     |█████████▎                      | 286kB 2.8MB/s eta 0:00:01\r\u001b[K     |█████████▋                      | 296kB 2.8MB/s eta 0:00:01\r\u001b[K     |██████████                      | 307kB 2.8MB/s eta 0:00:01\r\u001b[K     |██████████▎                     | 317kB 2.8MB/s eta 0:00:01\r\u001b[K     |██████████▋                     | 327kB 2.8MB/s eta 0:00:01\r\u001b[K     |███████████                     | 337kB 2.8MB/s eta 0:00:01\r\u001b[K     |███████████▎                    | 348kB 2.8MB/s eta 0:00:01\r\u001b[K     |███████████▋                    | 358kB 2.8MB/s eta 0:00:01\r\u001b[K     |████████████                    | 368kB 2.8MB/s eta 0:00:01\r\u001b[K     |████████████▎                   | 378kB 2.8MB/s eta 0:00:01\r\u001b[K     |████████████▋                   | 389kB 2.8MB/s eta 0:00:01\r\u001b[K     |█████████████                   | 399kB 2.8MB/s eta 0:00:01\r\u001b[K     |█████████████▎                  | 409kB 2.8MB/s eta 0:00:01\r\u001b[K     |█████████████▋                  | 419kB 2.8MB/s eta 0:00:01\r\u001b[K     |██████████████                  | 430kB 2.8MB/s eta 0:00:01\r\u001b[K     |██████████████▎                 | 440kB 2.8MB/s eta 0:00:01\r\u001b[K     |██████████████▋                 | 450kB 2.8MB/s eta 0:00:01\r\u001b[K     |███████████████                 | 460kB 2.8MB/s eta 0:00:01\r\u001b[K     |███████████████▎                | 471kB 2.8MB/s eta 0:00:01\r\u001b[K     |███████████████▋                | 481kB 2.8MB/s eta 0:00:01\r\u001b[K     |████████████████                | 491kB 2.8MB/s eta 0:00:01\r\u001b[K     |████████████████▎               | 501kB 2.8MB/s eta 0:00:01\r\u001b[K     |████████████████▋               | 512kB 2.8MB/s eta 0:00:01\r\u001b[K     |█████████████████               | 522kB 2.8MB/s eta 0:00:01\r\u001b[K     |█████████████████▎              | 532kB 2.8MB/s eta 0:00:01\r\u001b[K     |█████████████████▋              | 542kB 2.8MB/s eta 0:00:01\r\u001b[K     |██████████████████              | 552kB 2.8MB/s eta 0:00:01\r\u001b[K     |██████████████████▎             | 563kB 2.8MB/s eta 0:00:01\r\u001b[K     |██████████████████▋             | 573kB 2.8MB/s eta 0:00:01\r\u001b[K     |███████████████████             | 583kB 2.8MB/s eta 0:00:01\r\u001b[K     |███████████████████▎            | 593kB 2.8MB/s eta 0:00:01\r\u001b[K     |███████████████████▋            | 604kB 2.8MB/s eta 0:00:01\r\u001b[K     |████████████████████            | 614kB 2.8MB/s eta 0:00:01\r\u001b[K     |████████████████████▎           | 624kB 2.8MB/s eta 0:00:01\r\u001b[K     |████████████████████▋           | 634kB 2.8MB/s eta 0:00:01\r\u001b[K     |█████████████████████           | 645kB 2.8MB/s eta 0:00:01\r\u001b[K     |█████████████████████▎          | 655kB 2.8MB/s eta 0:00:01\r\u001b[K     |█████████████████████▋          | 665kB 2.8MB/s eta 0:00:01\r\u001b[K     |██████████████████████          | 675kB 2.8MB/s eta 0:00:01\r\u001b[K     |██████████████████████▎         | 686kB 2.8MB/s eta 0:00:01\r\u001b[K     |██████████████████████▋         | 696kB 2.8MB/s eta 0:00:01\r\u001b[K     |███████████████████████         | 706kB 2.8MB/s eta 0:00:01\r\u001b[K     |███████████████████████▎        | 716kB 2.8MB/s eta 0:00:01\r\u001b[K     |███████████████████████▋        | 727kB 2.8MB/s eta 0:00:01\r\u001b[K     |████████████████████████        | 737kB 2.8MB/s eta 0:00:01\r\u001b[K     |████████████████████████▎       | 747kB 2.8MB/s eta 0:00:01\r\u001b[K     |████████████████████████▋       | 757kB 2.8MB/s eta 0:00:01\r\u001b[K     |████████████████████████▉       | 768kB 2.8MB/s eta 0:00:01\r\u001b[K     |█████████████████████████▏      | 778kB 2.8MB/s eta 0:00:01\r\u001b[K     |█████████████████████████▌      | 788kB 2.8MB/s eta 0:00:01\r\u001b[K     |█████████████████████████▉      | 798kB 2.8MB/s eta 0:00:01\r\u001b[K     |██████████████████████████▏     | 808kB 2.8MB/s eta 0:00:01\r\u001b[K     |██████████████████████████▌     | 819kB 2.8MB/s eta 0:00:01\r\u001b[K     |██████████████████████████▉     | 829kB 2.8MB/s eta 0:00:01\r\u001b[K     |███████████████████████████▏    | 839kB 2.8MB/s eta 0:00:01\r\u001b[K     |███████████████████████████▌    | 849kB 2.8MB/s eta 0:00:01\r\u001b[K     |███████████████████████████▉    | 860kB 2.8MB/s eta 0:00:01\r\u001b[K     |████████████████████████████▏   | 870kB 2.8MB/s eta 0:00:01\r\u001b[K     |████████████████████████████▌   | 880kB 2.8MB/s eta 0:00:01\r\u001b[K     |████████████████████████████▉   | 890kB 2.8MB/s eta 0:00:01\r\u001b[K     |█████████████████████████████▏  | 901kB 2.8MB/s eta 0:00:01\r\u001b[K     |█████████████████████████████▌  | 911kB 2.8MB/s eta 0:00:01\r\u001b[K     |█████████████████████████████▉  | 921kB 2.8MB/s eta 0:00:01\r\u001b[K     |██████████████████████████████▏ | 931kB 2.8MB/s eta 0:00:01\r\u001b[K     |██████████████████████████████▌ | 942kB 2.8MB/s eta 0:00:01\r\u001b[K     |██████████████████████████████▉ | 952kB 2.8MB/s eta 0:00:01\r\u001b[K     |███████████████████████████████▏| 962kB 2.8MB/s eta 0:00:01\r\u001b[K     |███████████████████████████████▌| 972kB 2.8MB/s eta 0:00:01\r\u001b[K     |███████████████████████████████▉| 983kB 2.8MB/s eta 0:00:01\r\u001b[K     |████████████████████████████████| 993kB 2.8MB/s \n",
            "\u001b[?25h  Building wheel for PyDrive (setup.py) ... \u001b[?25l\u001b[?25hdone\n",
            "   id        mac_address  ... cluster             timespan\n",
            "0   1  a8:7c:01:18:41:d9  ...      -1  28/02/2019 11:45:12\n",
            "1   2  c8:94:17:ea:13:d8  ...      -1  28/02/2019 11:45:18\n",
            "2   3  ec:10:14:12:40:84  ...      -1  28/02/2019 11:45:19\n",
            "\n",
            "[3 rows x 8 columns]\n",
            "    id        mac_address  ... cluster             timespan\n",
            "0    1  a8:7c:01:72:4f:9c  ...       1  28/02/2019 11:45:10\n",
            "1    2  da:a1:19:24:f0:33  ...       1  28/02/2019 11:45:11\n",
            "2    3  00:0a:00:55:21:f6  ...       1  28/02/2019 11:45:15\n",
            "3    4  10:8e:e0:2c:8f:c6  ...       1  28/02/2019 11:45:16\n",
            "4    5  48:88:1e:35:1e:57  ...       2  28/02/2019 11:45:13\n",
            "5    6  48:88:af:87:c5:d2  ...       2  28/02/2019 11:45:14\n",
            "6    7  10:8e:ba:8e:ed:e1  ...       2  28/02/2019 11:45:21\n",
            "7    8  08:d4:13:02:93:44  ...       3  28/02/2019 11:45:17\n",
            "8    9  14:2d:27:db:fb:86  ...       3  28/02/2019 11:45:22\n",
            "9   10  38:d5:dd:45:6d:d1  ...       4  28/02/2019 11:45:20\n",
            "10  11  7c:2e:dd:e9:42:86  ...       4  28/02/2019 11:45:23\n",
            "\n",
            "[11 rows x 8 columns]\n"
          ],
          "name": "stdout"
        }
      ]
    },
    {
      "cell_type": "markdown",
      "metadata": {
        "id": "aZ_v_T0hpCNB",
        "colab_type": "text"
      },
      "source": [
        "\n",
        "\n",
        "```\n",
        "# preprocess the both datasets\n",
        "```\n",
        "\n"
      ]
    },
    {
      "cell_type": "code",
      "metadata": {
        "id": "ZtghVaxSo4fF",
        "colab_type": "code",
        "outputId": "5ac030b7-5b07-4863-aba4-21a7274c27e5",
        "colab": {
          "base_uri": "https://localhost:8080/",
          "height": 459
        }
      },
      "source": [
        "import numpy as np\n",
        "X = df_train.iloc[:, :-1].values  \n",
        "\n",
        "X = df_train[[\"time\",\n",
        "    \"LAT\", \"LON\"]]\n",
        "\n",
        "y = df_train.iloc[:, 6].values\n",
        "\n",
        "y_train = y\n",
        "print(y_train)\n",
        "\n",
        "X['time'] = pd.to_datetime(X['time'])\n",
        "X['time'] = X.time.values.astype(np.int64)\n",
        "X = X.as_matrix().astype(\"float64\", copy = False)\n",
        "\n",
        "X_train = X\n",
        "print(X_train)"
      ],
      "execution_count": 0,
      "outputs": [
        {
          "output_type": "stream",
          "text": [
            "[1 1 1 1 2 2 2 3 3 4 4]\n",
            "[[1.55135431e+18 4.65228399e+01 2.45986967e+01]\n",
            " [1.55135432e+18 4.65228374e+01 2.45987001e+01]\n",
            " [1.55135449e+18 4.65228341e+01 2.45987049e+01]\n",
            " [1.55135469e+18 4.65228376e+01 2.45987002e+01]\n",
            " [1.55135440e+18 4.65227541e+01 2.45986515e+01]\n",
            " [1.55135442e+18 4.65227690e+01 2.45986316e+01]\n",
            " [1.55135486e+18 4.65227654e+01 2.45986362e+01]\n",
            " [1.55135474e+18 4.65228087e+01 2.45986713e+01]\n",
            " [1.55135490e+18 4.65228005e+01 2.45986826e+01]\n",
            " [1.55135482e+18 4.65228340e+01 2.45985190e+01]\n",
            " [1.55135492e+18 4.65228311e+01 2.45985191e+01]]\n"
          ],
          "name": "stdout"
        },
        {
          "output_type": "stream",
          "text": [
            "/usr/local/lib/python3.6/dist-packages/ipykernel_launcher.py:12: SettingWithCopyWarning: \n",
            "A value is trying to be set on a copy of a slice from a DataFrame.\n",
            "Try using .loc[row_indexer,col_indexer] = value instead\n",
            "\n",
            "See the caveats in the documentation: http://pandas.pydata.org/pandas-docs/stable/indexing.html#indexing-view-versus-copy\n",
            "  if sys.path[0] == '':\n",
            "/usr/local/lib/python3.6/dist-packages/ipykernel_launcher.py:13: SettingWithCopyWarning: \n",
            "A value is trying to be set on a copy of a slice from a DataFrame.\n",
            "Try using .loc[row_indexer,col_indexer] = value instead\n",
            "\n",
            "See the caveats in the documentation: http://pandas.pydata.org/pandas-docs/stable/indexing.html#indexing-view-versus-copy\n",
            "  del sys.path[0]\n",
            "/usr/local/lib/python3.6/dist-packages/ipykernel_launcher.py:14: FutureWarning: Method .as_matrix will be removed in a future version. Use .values instead.\n",
            "  \n"
          ],
          "name": "stderr"
        }
      ]
    },
    {
      "cell_type": "code",
      "metadata": {
        "id": "lOhWezUCzUSo",
        "colab_type": "code",
        "colab": {}
      },
      "source": [
        "X = df_test.iloc[:, :-1].values  \n",
        "\n",
        "X = df_test[[\"time\",#\n",
        "    \"LAT\", \"LON\"]]\n",
        "\n",
        "y = df_test.iloc[:, 5].values\n",
        "\n",
        "X_test = X\n",
        "\n",
        "X['time'] = pd.to_datetime(X['time'])\n",
        "X['time'] = X.time.values.astype(np.int64)\n",
        "X = X.as_matrix().astype(\"float64\", copy = False)\n",
        "#y_test = y\n",
        "print(y_test)\n",
        "print(X_test)\n",
        "      \n",
        "      \n"
      ],
      "execution_count": 0,
      "outputs": []
    },
    {
      "cell_type": "code",
      "metadata": {
        "id": "BoLOowuYzB_W",
        "colab_type": "code",
        "colab": {}
      },
      "source": [
        "from sklearn.preprocessing import StandardScaler  \n",
        "scaler = StandardScaler()  \n",
        "scaler.fit(X_train)\n",
        "\n",
        "X_train = scaler.transform(X_train)  \n",
        "X_test = scaler.transform(X_test) \n",
        "\n",
        "print(\"X_train \\n\")\n",
        "print(X_train)\n",
        "\n",
        "print(\"X_test \\n\")\n",
        "print(X_test)"
      ],
      "execution_count": 0,
      "outputs": []
    },
    {
      "cell_type": "markdown",
      "metadata": {
        "id": "kKg5VviS0tA7",
        "colab_type": "text"
      },
      "source": [
        "\n",
        "\n",
        "```\n",
        "# training on KNN \n",
        "```\n",
        "\n"
      ]
    },
    {
      "cell_type": "code",
      "metadata": {
        "id": "vEiyHGIr0sAk",
        "colab_type": "code",
        "outputId": "c7c5c7ac-aae5-4a10-aec6-5d9eec30fa39",
        "colab": {
          "base_uri": "https://localhost:8080/",
          "height": 85
        }
      },
      "source": [
        "from sklearn.neighbors import KNeighborsClassifier  \n",
        "classifier = KNeighborsClassifier(n_neighbors=4, leaf_size=15,metric='euclidean')  \n",
        "classifier.fit(X_train, y_train)  \n",
        "\n",
        "y_pred = classifier.predict(X_test) \n",
        "\n",
        "X_test_original = scaler.inverse_transform(X_test)\n",
        "print(X_test)\n",
        "\n",
        "print(y_pred)"
      ],
      "execution_count": 0,
      "outputs": [
        {
          "output_type": "stream",
          "text": [
            "[[-1.00719024 -0.11061492 -2.51128532]\n",
            " [ 0.82042386 -3.96465498 -0.55225973]\n",
            " [ 0.82478571  0.45803478 -0.56734337]]\n",
            "[2 2 3]\n"
          ],
          "name": "stdout"
        }
      ]
    },
    {
      "cell_type": "markdown",
      "metadata": {
        "id": "8605q0qt01hW",
        "colab_type": "text"
      },
      "source": [
        "test data"
      ]
    },
    {
      "cell_type": "code",
      "metadata": {
        "id": "BRvVVXs702wz",
        "colab_type": "code",
        "outputId": "e2f4cd21-3d50-4956-eb3e-cdb163dec2eb",
        "colab": {
          "base_uri": "https://localhost:8080/",
          "height": 34
        }
      },
      "source": [
        "\n"
      ],
      "execution_count": 0,
      "outputs": [
        {
          "output_type": "stream",
          "text": [
            "[2 2 3]\n"
          ],
          "name": "stdout"
        }
      ]
    }
  ]
}